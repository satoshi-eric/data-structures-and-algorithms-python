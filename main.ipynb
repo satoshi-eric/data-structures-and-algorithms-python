{
 "cells": [
  {
   "cell_type": "markdown",
   "metadata": {},
   "source": [
    "# Estruturas de dados em Python"
   ]
  },
  {
   "cell_type": "markdown",
   "metadata": {},
   "source": [
    "## Ponteiros"
   ]
  },
  {
   "cell_type": "code",
   "execution_count": 3,
   "metadata": {},
   "outputs": [
    {
     "name": "stdout",
     "output_type": "stream",
     "text": [
      "Antes da atualização\n",
      "Endereço de memória de num1: 2880382108208\n",
      "Endereço de memória de num2: 2880382108208\n",
      "Valor de num1:  11\n",
      "Valor de num2:  11\n",
      "\n",
      "Depois da atualização\n",
      "Endereço de memória de num1: 2880382108208\n",
      "Endereço de memória de num2: 2880382108560\n",
      "Valor de num1:  11\n",
      "Valor de num2:  22\n"
     ]
    }
   ],
   "source": [
    "num1 = 11\n",
    "num2 = num1\n",
    "\n",
    "print('Antes da atualização')\n",
    "print('Endereço de memória de num1:', id(num1))\n",
    "print('Endereço de memória de num2:', id(num2))\n",
    "print('Valor de num1: ', num1)\n",
    "print('Valor de num2: ', num2)\n",
    "\n",
    "num2 = 22\n",
    "\n",
    "print('\\nDepois da atualização')\n",
    "print('Endereço de memória de num1:', id(num1))\n",
    "print('Endereço de memória de num2:', id(num2))\n",
    "print('Valor de num1: ', num1)\n",
    "print('Valor de num2: ', num2)"
   ]
  },
  {
   "cell_type": "markdown",
   "metadata": {},
   "source": [
    "Pelo exemplo anterior podemos perceber que variáveis primitivas não podem ter seus valores alterados por outras variáveis."
   ]
  },
  {
   "cell_type": "code",
   "execution_count": 6,
   "metadata": {},
   "outputs": [
    {
     "name": "stdout",
     "output_type": "stream",
     "text": [
      "\n",
      "Antes da atualização\n",
      "Endereço de memória de dict1: 2880468915200\n",
      "Endereço de memória de dict2: 2880468915200\n",
      "Valor de dict1:  {'valor': 11}\n",
      "Valor de dict2:  {'valor': 11}\n",
      "\n",
      "Depois da atualização\n",
      "Endereço de memória de dict1: 2880468915200\n",
      "Endereço de memória de dict2: 2880468915200\n",
      "Valor de dict1:  {'valor': 22}\n",
      "Valor de dict2:  {'valor': 22}\n"
     ]
    }
   ],
   "source": [
    "dict1 = {'valor': 11}\n",
    "dict2 = dict1\n",
    "\n",
    "print('\\nAntes da atualização')\n",
    "print('Endereço de memória de dict1:', id(dict1))\n",
    "print('Endereço de memória de dict2:', id(dict2))\n",
    "print('Valor de dict1: ', dict1)\n",
    "print('Valor de dict2: ', dict2)\n",
    "\n",
    "dict2['valor'] = 22\n",
    "\n",
    "print('\\nDepois da atualização')\n",
    "print('Endereço de memória de dict1:', id(dict1))\n",
    "print('Endereço de memória de dict2:', id(dict2))\n",
    "print('Valor de dict1: ', dict1)\n",
    "print('Valor de dict2: ', dict2)"
   ]
  },
  {
   "cell_type": "markdown",
   "metadata": {},
   "source": [
    "Entretanto, com tipos não primitivos podem ter seus valores alterados por outras variáveis."
   ]
  },
  {
   "cell_type": "markdown",
   "metadata": {},
   "source": [
    "## Lista Ligada"
   ]
  },
  {
   "cell_type": "code",
   "execution_count": 28,
   "metadata": {},
   "outputs": [
    {
     "name": "stdout",
     "output_type": "stream",
     "text": [
      "0\n",
      "1\n",
      "2\n"
     ]
    }
   ],
   "source": [
    "class Node:\n",
    "    def __init__(self, value) -> None:\n",
    "        self.value = value\n",
    "        self.next = None\n",
    "\n",
    "class LinkedList:\n",
    "    def __init__(self, value) -> None:\n",
    "        new_node = Node(value)\n",
    "        self.head = new_node\n",
    "        self.tail = new_node\n",
    "        self.length = 1\n",
    "\n",
    "    def print_list(self):\n",
    "        temp = self.head\n",
    "        while temp is not None:\n",
    "            print(temp.value)\n",
    "            temp = temp.next\n",
    "\n",
    "    def append(self, value):\n",
    "        new_node = Node(value)\n",
    "        if self.head is None:\n",
    "            self.head = new_node\n",
    "            self.tail = new_node\n",
    "        else:\n",
    "            self.tail.next = new_node\n",
    "            self.tail = new_node\n",
    "        self.length += 1\n",
    "        return True\n",
    "\n",
    "    def pop(self):\n",
    "        if self.length == 0:\n",
    "            return None\n",
    "        \n",
    "        temp = self.head\n",
    "        pre = self.head\n",
    "        while temp.next is not None:\n",
    "            pre = temp\n",
    "            temp = temp.next\n",
    "        self.tail = pre\n",
    "        self.tail.next = None\n",
    "        self.length -= 1\n",
    "        if self.length == 0:\n",
    "            self.head = None\n",
    "            self.tail = None\n",
    "        return temp\n",
    "\n",
    "    def prepend(self, value):\n",
    "        new_node = Node(value)\n",
    "        if self.length == 0:\n",
    "            self.head = new_node\n",
    "            self.tail = new_node\n",
    "        else:\n",
    "            new_node.next = self.head\n",
    "            self.head = new_node\n",
    "        self.length += 1\n",
    "        return True\n",
    "    \n",
    "    def pop_first(self):\n",
    "        if self.length == 0:\n",
    "            return None\n",
    "        else:\n",
    "            temp = self.head\n",
    "            self.head = self.head.next\n",
    "            temp.next = None\n",
    "            self.length -= 1\n",
    "            if self.length == 0:\n",
    "                self.tail = None\n",
    "                return temp\n",
    "\n",
    "    def get(self, index):\n",
    "        if index < 0 or index >= self.length:\n",
    "            return None\n",
    "        else:\n",
    "            temp = self.head\n",
    "            for _ in range(index):\n",
    "                temp = temp.next\n",
    "            return temp\n",
    "\n",
    "    def set_value(self, index, value):\n",
    "        temp = self.get(index)\n",
    "        if temp:\n",
    "            temp.value = value\n",
    "            return True\n",
    "        return False\n",
    "\n",
    "    def insert(self, index, value):\n",
    "        if index < 0 or index > self.length:\n",
    "            return False\n",
    "        if index == 0:\n",
    "            return self.prepend(value)\n",
    "        if index == self.length:\n",
    "            return self.append(value)\n",
    "        new_node = Node(value)\n",
    "        temp = self.get(index - 1)\n",
    "        new_node.next = temp.next\n",
    "        temp.next = new_node\n",
    "        self.length += 1\n",
    "        return True\n",
    "\n",
    "    def remove(self, index):\n",
    "        if index < 0 or index >= self.length:\n",
    "            return None\n",
    "        if self.length == 0:\n",
    "            return None\n",
    "        if index == 0:\n",
    "            return self.pop_first()\n",
    "        if index == self.length - 1:\n",
    "            return self.pop()\n",
    "        prev = self.get(index - 1)\n",
    "        temp = prev.next\n",
    "        prev.next = temp.next\n",
    "        temp.next = None\n",
    "        return temp\n",
    "\n",
    "    def reverse(self):\n",
    "        temp = self.head\n",
    "        self.head = self.tail\n",
    "        self.tail = temp\n",
    "        after = temp.next\n",
    "        before = None\n",
    "        for _ in range(self.length):\n",
    "            after = temp.next\n",
    "            temp.next = before\n",
    "            before = temp\n",
    "            temp = after\n",
    "\n",
    "\n"
   ]
  },
  {
   "cell_type": "markdown",
   "metadata": {},
   "source": [
    "## Lista Ligada Dupla"
   ]
  },
  {
   "cell_type": "code",
   "execution_count": 52,
   "metadata": {},
   "outputs": [
    {
     "name": "stdout",
     "output_type": "stream",
     "text": [
      "3\n",
      "2\n",
      "4\n",
      "1\n",
      "1\n"
     ]
    }
   ],
   "source": [
    "class Node:\n",
    "    def __init__(self, value):\n",
    "        self.value = value\n",
    "        self.next = None\n",
    "        self.prev = None\n",
    "\n",
    "class DoublyLinkedList:\n",
    "    def __init__(self, value):\n",
    "        new_node = Node(value)\n",
    "        self.head = new_node\n",
    "        self.tail = new_node\n",
    "        self.length = 1\n",
    "\n",
    "    def print_list(self):\n",
    "        temp = self.head\n",
    "        while temp is not None:\n",
    "            print(temp.value)\n",
    "            temp = temp.next\n",
    "\n",
    "    def append(self, value):\n",
    "        new_node = Node(value)\n",
    "        if self.head == None:\n",
    "            self.head = new_node\n",
    "            self.tail = new_node\n",
    "        else:\n",
    "            self.tail.next = new_node\n",
    "            new_node.prev = self.tail\n",
    "            self.tail = new_node\n",
    "        self.length = 1\n",
    "        return True\n",
    "\n",
    "    def pop(self):\n",
    "        if self.length == 0:\n",
    "            return None\n",
    "        temp = self.tail\n",
    "        if self.length == 1:\n",
    "            self.head = None\n",
    "            self.prev = None\n",
    "        else:\n",
    "            self.tail = self.tail.prev\n",
    "            self.tail.next = None\n",
    "            temp.prev = None\n",
    "        self.length -= 1\n",
    "        return temp\n",
    "\n",
    "    def prepend(self, value):\n",
    "        new_node = Node(value)\n",
    "        if self.length == 0:\n",
    "            self.head = new_node\n",
    "            self.tail = new_node\n",
    "        else:\n",
    "            new_node.next = self.head\n",
    "            self.head.prev = new_node\n",
    "            self.head = new_node\n",
    "        self.length += 1\n",
    "\n",
    "    def pop_first(self):\n",
    "        if self.length == 0:\n",
    "            return None\n",
    "        temp = self.head\n",
    "        if self.length == 1:\n",
    "            self.head = None\n",
    "            self.tail = None\n",
    "        else:\n",
    "            self.head = self.head.next\n",
    "            temp.next = None\n",
    "            self.head.prev = None\n",
    "        self.length -= 1\n",
    "        return temp\n",
    "\n",
    "    def get(self, index):\n",
    "        if index < 0 or index > self.length:\n",
    "            return None\n",
    "        temp = self.head\n",
    "        if index < self.length / 2:\n",
    "            for _ in range(index):\n",
    "                temp = temp.next\n",
    "        else:\n",
    "            temp = self.tail\n",
    "            for _ in range(self.length - 1, index, -1):\n",
    "                temp = temp.prev\n",
    "        return temp\n",
    "\n",
    "    def set_value(self, index, value):\n",
    "        temp = self.get(index)\n",
    "        if temp:\n",
    "            temp.value = value\n",
    "            return True\n",
    "        return False\n",
    "\n",
    "    def insert(self, index, value):\n",
    "        if index < 0 or index >= self.length:\n",
    "            return False\n",
    "        if index == 0:\n",
    "            return self.prepend(value)\n",
    "        if index == self.length:\n",
    "            return self.append(value)\n",
    "        new_node = Node(value)\n",
    "        before = self.get(index - 1)\n",
    "        after = before.next\n",
    "        new_node.prev = before\n",
    "        new_node.next = after\n",
    "        before.next = new_node\n",
    "        after.prev = new_node\n",
    "\n",
    "        self.length += 1\n",
    "        return True\n",
    "    \n",
    "    def remove(self, index):\n",
    "        if index < 0 or index >= self.length:\n",
    "            return None\n",
    "        if self.length == 0:\n",
    "            return None\n",
    "        temp = self.get(index)\n",
    "        temp.next.prev = temp.prev\n",
    "        temp.prev.next = temp.next\n",
    "        temp.next = None\n",
    "        temp.prev = None\n",
    "        self.length -= 1\n",
    "        return temp\n",
    "\n",
    "\n",
    "doubly_linked_list = DoublyLinkedList(1)\n",
    "doubly_linked_list.prepend(1)\n",
    "doubly_linked_list.prepend(2)\n",
    "doubly_linked_list.prepend(3)\n",
    "doubly_linked_list.insert(2, 4)\n",
    "\n",
    "doubly_linked_list.print_list()"
   ]
  },
  {
   "cell_type": "markdown",
   "metadata": {},
   "source": [
    "## Pilha"
   ]
  },
  {
   "cell_type": "code",
   "execution_count": 3,
   "metadata": {},
   "outputs": [
    {
     "name": "stdout",
     "output_type": "stream",
     "text": [
      "2\n",
      "1\n"
     ]
    }
   ],
   "source": [
    "class Node:\n",
    "    def __init__(self, value):\n",
    "        self.value = value\n",
    "        self.next = None\n",
    "\n",
    "class Stack:\n",
    "    def __init__(self, value) -> None:\n",
    "        new_node = Node(value)\n",
    "        self.top = new_node\n",
    "        self.height = 1\n",
    "\n",
    "    def print_stack(self):\n",
    "        temp = self.top\n",
    "        while temp is not None:\n",
    "            print(temp.value)\n",
    "            temp = temp.next\n",
    "\n",
    "    def push(self, value):\n",
    "        new_node = Node(value)\n",
    "        if self.height == 0:\n",
    "            self.top = new_node\n",
    "        else:    \n",
    "            new_node.next = self.top\n",
    "            self.top = new_node\n",
    "        self.height += 1\n",
    "\n",
    "    def pop(self):\n",
    "        if self.height == 0:\n",
    "            return None\n",
    "        temp = self.top\n",
    "        self.top = self.top.next\n",
    "        temp.next = None\n",
    "        self.height -= 1\n",
    "        return temp\n",
    "\n",
    "\n",
    "stack = Stack(1)\n",
    "stack.push(2)\n",
    "stack.print_stack()"
   ]
  },
  {
   "cell_type": "markdown",
   "metadata": {},
   "source": [
    "## Fila"
   ]
  },
  {
   "cell_type": "code",
   "execution_count": 5,
   "metadata": {},
   "outputs": [
    {
     "name": "stdout",
     "output_type": "stream",
     "text": [
      "2\n"
     ]
    }
   ],
   "source": [
    "class Node:\n",
    "    def __init__(self, value):\n",
    "        self.value = value\n",
    "        self.next = None\n",
    "\n",
    "\n",
    "class Queue:\n",
    "    def __init__(self, value) -> None:\n",
    "        new_node = Node(value)\n",
    "        self.first = new_node\n",
    "        self.last = new_node\n",
    "        self.length = 1\n",
    "\n",
    "    def print_queue(self):\n",
    "        temp = self.first\n",
    "        while temp is not None:\n",
    "            print(temp.value)\n",
    "            temp = temp.next\n",
    "\n",
    "    def enqueue(self, value):\n",
    "        new_node = Node(value)\n",
    "        if self.first is None:\n",
    "            self.first = new_node\n",
    "            self.last = new_node\n",
    "        else:\n",
    "            self.last.next = new_node\n",
    "            self.last = new_node\n",
    "        self.length += 1\n",
    "\n",
    "    def dequeue(self):\n",
    "        if self.length == 0:\n",
    "            return None\n",
    "        temp = self.first\n",
    "        if self.length == 1:\n",
    "            self.first == None\n",
    "            self.last == None\n",
    "        else:\n",
    "            self.first = self.first.next\n",
    "            temp.next = None\n",
    "        self.length -= 1\n",
    "        return temp\n",
    "\n",
    "\n",
    "queue = Queue(1)\n",
    "queue.enqueue(2)\n",
    "queue.dequeue()\n",
    "queue.print_queue()"
   ]
  },
  {
   "cell_type": "markdown",
   "metadata": {},
   "source": [
    "## Árvore Binária de Busca"
   ]
  },
  {
   "cell_type": "code",
   "execution_count": 61,
   "metadata": {},
   "outputs": [
    {
     "name": "stdout",
     "output_type": "stream",
     "text": [
      "True\n"
     ]
    }
   ],
   "source": [
    "class Node:\n",
    "    def __init__(self, value):\n",
    "        self.value = value\n",
    "        self.left = None\n",
    "        self.right = None\n",
    "\n",
    "class BinarySearchTree:\n",
    "    def __init__(self) -> None:\n",
    "        self.root = None\n",
    "\n",
    "    def insert(self, value):\n",
    "        new_node = Node(value)\n",
    "        if self.root is None:\n",
    "            self.root = new_node\n",
    "            return True\n",
    "        temp = self.root\n",
    "        while True:\n",
    "            if new_node.value == temp.value:\n",
    "                return False\n",
    "            if new_node.value < temp.value:\n",
    "                if temp.left is None:\n",
    "                    temp.left = new_node\n",
    "                    return True\n",
    "                temp = temp.left\n",
    "            if new_node.value > temp.value:\n",
    "                if temp.right is None:\n",
    "                    temp.right = new_node\n",
    "                    return True\n",
    "                temp = temp.right\n",
    "\n",
    "    def contains(self, value):\n",
    "        if self.root == None: \n",
    "            return False\n",
    "        temp = self.root\n",
    "        while temp is not None:\n",
    "            if value < temp.value:\n",
    "                temp = temp.left\n",
    "            elif value > temp.value:\n",
    "                temp = temp.right\n",
    "            else:\n",
    "                return True\n",
    "        return False\n",
    "\n",
    "    def min_value_node(self, current_node):\n",
    "        while current_node.left is not None:\n",
    "            current_node = current_node.left\n",
    "        return current_node\n",
    "\n",
    "\n",
    "tree = BinarySearchTree()\n",
    "tree.insert(2)\n",
    "tree.insert(1)\n",
    "tree.insert(3)\n",
    "\n",
    "print(tree.contains(2))"
   ]
  },
  {
   "cell_type": "markdown",
   "metadata": {},
   "source": [
    "## Tabela de Espalhamento (Hash)"
   ]
  },
  {
   "cell_type": "code",
   "execution_count": 10,
   "metadata": {},
   "outputs": [
    {
     "data": {
      "text/plain": [
       "['bolts', 'washers', 'nuts']"
      ]
     },
     "execution_count": 10,
     "metadata": {},
     "output_type": "execute_result"
    }
   ],
   "source": [
    "class HashTable:\n",
    "    def __init__(self, size=7) -> None:\n",
    "        self.data_map = [None] * size\n",
    "\n",
    "    def __hash(self, key):\n",
    "        my_hash = 0\n",
    "        for i in key:\n",
    "            my_hash = (my_hash + ord(i) * 23) % len(self.data_map)\n",
    "        return my_hash\n",
    "\n",
    "    def print_table(self):\n",
    "        for i, val in enumerate(self.data_map):\n",
    "            print(i, \":\", val)\n",
    "\n",
    "    def set_item(self, key, value):\n",
    "        index = self.__hash(key)\n",
    "        if self.data_map[index] == None:\n",
    "            self.data_map[index] = []\n",
    "        self.data_map[index].append([key, value])\n",
    "    \n",
    "    def get_item(self, key):\n",
    "        index = self.__hash(key)\n",
    "        if self.data_map[index] is not None:\n",
    "            for i in range(len(self.data_map[index])):\n",
    "                if self.data_map[index][i][0] == key:\n",
    "                    return self.data_map[index][i][1]\n",
    "        return None\n",
    "\n",
    "    def keys(self):\n",
    "        all_keys = []\n",
    "        for i in range(len(self.data_map)):\n",
    "            if self.data_map[i] is not None:\n",
    "                for j in range(len(self.data_map[i])):\n",
    "                    all_keys.append(self.data_map[i][j][0])\n",
    "        return all_keys\n",
    "\n",
    "\n",
    "hash_table = HashTable()\n",
    "hash_table.set_item('bolts', 1400)\n",
    "hash_table.set_item('washers', 50)\n",
    "hash_table.set_item('nuts', 100)\n",
    "hash_table.keys()"
   ]
  },
  {
   "cell_type": "markdown",
   "metadata": {},
   "source": [
    "## Grafo"
   ]
  },
  {
   "cell_type": "code",
   "execution_count": 11,
   "metadata": {},
   "outputs": [
    {
     "name": "stdout",
     "output_type": "stream",
     "text": [
      "a : ['b']\n",
      "b : ['a']\n"
     ]
    }
   ],
   "source": [
    "class Graph:\n",
    "    def __init__(self) -> None:\n",
    "        self.adj_list = {}\n",
    "\n",
    "    def print_graph(self):\n",
    "        for vertex in self.adj_list:\n",
    "            print(vertex, \":\", self.adj_list[vertex])\n",
    "\n",
    "    def add_vertex(self, vertex):\n",
    "        if vertex not in self.adj_list.keys():\n",
    "            self.adj_list[vertex] = []\n",
    "            return True\n",
    "        return False\n",
    "\n",
    "    def add_edge(self, v1, v2):\n",
    "        if v1 in self.adj_list.keys() and v2 in self.adj_list.keys():\n",
    "            self.adj_list[v1].append(v2)\n",
    "            self.adj_list[v2].append(v1)\n",
    "            return True\n",
    "        return False\n",
    "\n",
    "    def remove_edge(self, v1, v2):\n",
    "        if v1 in self.adj_list.keys() and v2 in self.adj_list.keys():\n",
    "            try:\n",
    "                self.adj_list[v1].remove(v2)\n",
    "                self.adj_list[v2].remove(v1)\n",
    "            except ValueError:\n",
    "                pass\n",
    "            return True\n",
    "        return False\n",
    "\n",
    "    def remove_vertes(self, vertex):\n",
    "        if vertex in self.adj_list.keys():\n",
    "            for other_vertex in self.adj_list[vertex]:\n",
    "                self.remove_edge(vertex, other_vertex)\n",
    "            del self.adj_list[vertex]\n",
    "            return True\n",
    "        return False\n",
    "    \n",
    "\n",
    "graph = Graph()\n",
    "graph.add_vertex('a')\n",
    "graph.add_vertex('b')\n",
    "graph.add_edge('a', 'b')\n",
    "graph.print_graph()"
   ]
  },
  {
   "cell_type": "markdown",
   "metadata": {},
   "source": [
    "## Recursão"
   ]
  },
  {
   "cell_type": "code",
   "execution_count": 13,
   "metadata": {},
   "outputs": [
    {
     "data": {
      "text/plain": [
       "24"
      ]
     },
     "execution_count": 13,
     "metadata": {},
     "output_type": "execute_result"
    }
   ],
   "source": [
    "def factorial(n):\n",
    "    if n == 1:\n",
    "        return 1\n",
    "    else:\n",
    "        return n * factorial(n - 1)\n",
    "\n",
    "factorial(4)"
   ]
  },
  {
   "cell_type": "markdown",
   "metadata": {},
   "source": [
    "## Bubble Sort"
   ]
  },
  {
   "cell_type": "code",
   "execution_count": 2,
   "metadata": {},
   "outputs": [
    {
     "data": {
      "text/plain": [
       "[1, 2, 3]"
      ]
     },
     "execution_count": 2,
     "metadata": {},
     "output_type": "execute_result"
    }
   ],
   "source": [
    "def bubble_sort(my_list):\n",
    "    for i in range(len(my_list) - 1, 0, -1):\n",
    "        for j in range(i):\n",
    "            if my_list[j] > my_list[j + 1]:\n",
    "                temp = my_list[j]\n",
    "                my_list[j] = my_list[j + 1]\n",
    "                my_list[j + 1] = temp\n",
    "    return my_list\n",
    "\n",
    "my_list = [3, 2, 1]\n",
    "bubble_sort(my_list)\n",
    "my_list"
   ]
  },
  {
   "cell_type": "markdown",
   "metadata": {},
   "source": [
    "## Selection Sort"
   ]
  },
  {
   "cell_type": "code",
   "execution_count": 9,
   "metadata": {},
   "outputs": [
    {
     "data": {
      "text/plain": [
       "[1, 2, 3]"
      ]
     },
     "execution_count": 9,
     "metadata": {},
     "output_type": "execute_result"
    }
   ],
   "source": [
    "def insertion_sort(my_list):\n",
    "    min_index = 0\n",
    "    for i in range(len(my_list) - 1):\n",
    "        min_index = i\n",
    "        for j in range(i + 1, len(my_list)):\n",
    "            if my_list[j] < my_list[min_index]:\n",
    "                min_index = j\n",
    "        if i != min_index:\n",
    "            temp = my_list[i]\n",
    "            my_list[i] = my_list[min_index]\n",
    "            my_list[min_index] = temp\n",
    "    return my_list\n",
    "\n",
    "\n",
    "my_list = [3, 2, 1]\n",
    "insertion_sort(my_list)"
   ]
  },
  {
   "cell_type": "code",
   "execution_count": 10,
   "metadata": {},
   "outputs": [
    {
     "data": {
      "text/plain": [
       "[1, 2, 3]"
      ]
     },
     "execution_count": 10,
     "metadata": {},
     "output_type": "execute_result"
    }
   ],
   "source": [
    "def insertion_sort(my_list):\n",
    "    for i in range(1, len(my_list)):\n",
    "        temp = my_list[i]\n",
    "        j = i - 1\n",
    "        while temp < my_list[j] and j > -1:\n",
    "            my_list[j + 1] = my_list[j]\n",
    "            my_list[j] = temp\n",
    "            j -= 1\n",
    "    return my_list\n",
    "\n",
    "my_list = [3, 2, 1]\n",
    "insertion_sort(my_list)"
   ]
  },
  {
   "cell_type": "markdown",
   "metadata": {},
   "source": [
    "## Merge Sort"
   ]
  },
  {
   "cell_type": "code",
   "execution_count": 1,
   "metadata": {},
   "outputs": [
    {
     "data": {
      "text/plain": [
       "[1, 2, 3, 5, 200, 300]"
      ]
     },
     "execution_count": 1,
     "metadata": {},
     "output_type": "execute_result"
    }
   ],
   "source": [
    "def merge(l1, l2):\n",
    "    combined = []\n",
    "    i = 0\n",
    "    j = 0\n",
    "    while i < len(l1) and j < len(l2):\n",
    "        if l1[i] < l2[j]:\n",
    "            combined.append(l1[i])\n",
    "            i += 1\n",
    "        else:\n",
    "            combined.append(l2[j])\n",
    "            j += 1\n",
    "    while i < len(l1):\n",
    "        combined.append(l1[i])\n",
    "        i += 1\n",
    "    while j < len(l2):\n",
    "        combined.append(l2[j])\n",
    "        j += 1\n",
    "\n",
    "    return combined\n",
    "\n",
    "def mergesort(my_list):\n",
    "    if len(my_list) <= 1:\n",
    "        return my_list\n",
    "        \n",
    "    mid = len(my_list) // 2\n",
    "    left = mergesort(my_list[:mid])\n",
    "    right = mergesort(my_list[mid:])\n",
    "    return merge(left, right)\n",
    "\n",
    "mergesort([300, 1, 5, 2, 200, 3])"
   ]
  },
  {
   "cell_type": "markdown",
   "metadata": {},
   "source": [
    "## Quick Sort"
   ]
  },
  {
   "cell_type": "code",
   "execution_count": 5,
   "metadata": {},
   "outputs": [
    {
     "data": {
      "text/plain": [
       "[1, 2, 3, 4, 5, 6, 7]"
      ]
     },
     "execution_count": 5,
     "metadata": {},
     "output_type": "execute_result"
    }
   ],
   "source": [
    "def swap(my_list, index1, index2):\n",
    "    temp = my_list[index1]\n",
    "    my_list[index1] = my_list[index2]\n",
    "    my_list[index2] = temp\n",
    "\n",
    "def pivot(my_list, pivot_index, end_index):\n",
    "    swap_index = pivot_index\n",
    "    for i in range(pivot_index+1, end_index+1):\n",
    "        if my_list[i] < my_list[pivot_index]:\n",
    "            swap_index += 1\n",
    "            swap(my_list, swap_index, i)\n",
    "    swap(my_list, pivot_index, swap_index)\n",
    "    return swap_index\n",
    "\n",
    "def quick_sort_helper(my_list, left, right):\n",
    "    if left < right:\n",
    "        pivot_index = pivot(my_list, left, right)\n",
    "        quick_sort_helper(my_list, left, pivot_index-1)\n",
    "        quick_sort_helper(my_list, pivot_index+1, right)\n",
    "    return my_list\n",
    "\n",
    "def quick_sort(my_list):\n",
    "    return quick_sort_helper(my_list, 0, len(my_list)-1)\n",
    "\n",
    "my_list = [4, 3, 6, 7, 1, 2, 5]\n",
    "quick_sort(my_list)"
   ]
  },
  {
   "cell_type": "markdown",
   "metadata": {},
   "source": [
    "## Travessia de árvore"
   ]
  },
  {
   "cell_type": "code",
   "execution_count": 6,
   "metadata": {},
   "outputs": [
    {
     "name": "stdout",
     "output_type": "stream",
     "text": [
      "[2, 1, 3]\n"
     ]
    }
   ],
   "source": [
    "class Node:\n",
    "    def __init__(self, value):\n",
    "        self.value = value\n",
    "        self.left = None\n",
    "        self.right = None\n",
    "\n",
    "class BinarySearchTree:\n",
    "    def __init__(self) -> None:\n",
    "        self.root = None\n",
    "\n",
    "    def insert(self, value):\n",
    "        new_node = Node(value)\n",
    "        if self.root is None:\n",
    "            self.root = new_node\n",
    "            return True\n",
    "        temp = self.root\n",
    "        while True:\n",
    "            if new_node.value == temp.value:\n",
    "                return False\n",
    "            if new_node.value < temp.value:\n",
    "                if temp.left is None:\n",
    "                    temp.left = new_node\n",
    "                    return True\n",
    "                temp = temp.left\n",
    "            if new_node.value > temp.value:\n",
    "                if temp.right is None:\n",
    "                    temp.right = new_node\n",
    "                    return True\n",
    "                temp = temp.right\n",
    "\n",
    "    def contains(self, value):\n",
    "        if self.root == None: \n",
    "            return False\n",
    "        temp = self.root\n",
    "        while temp is not None:\n",
    "            if value < temp.value:\n",
    "                temp = temp.left\n",
    "            elif value > temp.value:\n",
    "                temp = temp.right\n",
    "            else:\n",
    "                return True\n",
    "        return False\n",
    "\n",
    "    def min_value_node(self, current_node):\n",
    "        while current_node.left is not None:\n",
    "            current_node = current_node.left\n",
    "        return current_node\n",
    "\n",
    "    def BFS(self):\n",
    "        current_node = self.root\n",
    "        queue = []\n",
    "        results = []\n",
    "        queue.append(current_node)\n",
    "\n",
    "        while len(queue) > 0:\n",
    "            current_node = queue.pop(0)\n",
    "            results.append(current_node.value)\n",
    "            if current_node.left is not None:\n",
    "                queue.append(current_node.left)\n",
    "            if current_node.right is not None:\n",
    "                queue.append(current_node.right)\n",
    "        \n",
    "        return results\n",
    "\n",
    "    def dfs_pre_order(self):\n",
    "        results = []\n",
    "        def traverse(current_node):\n",
    "            results.append(current_node.value)\n",
    "            if current_node.left is not None:\n",
    "                traverse(current_node.left)\n",
    "            if current_node.right is not None:\n",
    "                traverse(current_node.right)\n",
    "        \n",
    "        traverse(self.root)\n",
    "        return results\n",
    "\n",
    "    def dfs_post_order(self):\n",
    "        results = []\n",
    "        def traverse(current_node):\n",
    "            if current_node.left is not None:\n",
    "                traverse(current_node.left)\n",
    "            if current_node.right is not None:\n",
    "                traverse(current_node.right)\n",
    "            results.append(current_node.value)\n",
    "        \n",
    "        traverse(self.root)\n",
    "        return results\n",
    "        \n",
    "    def dfs_in_order(self):\n",
    "        results = []\n",
    "        def traverse(current_node):\n",
    "            if current_node.left is not None:\n",
    "                traverse(current_node.left)\n",
    "            results.append(current_node.value)\n",
    "            if current_node.right is not None:\n",
    "                traverse(current_node.right)\n",
    "        \n",
    "        traverse(self.root)\n",
    "        return results\n",
    "\n",
    "\n",
    "tree = BinarySearchTree()\n",
    "tree.insert(2)\n",
    "tree.insert(1)\n",
    "tree.insert(3)\n",
    "\n",
    "print(tree.BFS())"
   ]
  }
 ],
 "metadata": {
  "kernelspec": {
   "display_name": "Python 3.10.5 64-bit",
   "language": "python",
   "name": "python3"
  },
  "language_info": {
   "codemirror_mode": {
    "name": "ipython",
    "version": 3
   },
   "file_extension": ".py",
   "mimetype": "text/x-python",
   "name": "python",
   "nbconvert_exporter": "python",
   "pygments_lexer": "ipython3",
   "version": "3.10.5"
  },
  "orig_nbformat": 4,
  "vscode": {
   "interpreter": {
    "hash": "0a8d72dc21382e2e9d86d889e7d1f73385d1ba67789a4a436549d18025047e85"
   }
  }
 },
 "nbformat": 4,
 "nbformat_minor": 2
}
